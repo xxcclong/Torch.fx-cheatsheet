{
 "cells": [
  {
   "cell_type": "markdown",
   "metadata": {},
   "source": [
    "## Modify a computation graph with torchFX"
   ]
  },
  {
   "cell_type": "code",
   "execution_count": 33,
   "metadata": {},
   "outputs": [
    {
     "name": "stdout",
     "output_type": "stream",
     "text": [
      "MyModel(\n",
      "  (linear): Linear(in_features=10, out_features=10, bias=True)\n",
      "  (linear2): Linear(in_features=10, out_features=10, bias=True)\n",
      ")\n",
      "\n",
      "\n",
      "\n",
      "def forward(self, x, y):\n",
      "    getitem = x[1]\n",
      "    add = x + y;  x = y = None\n",
      "    mul = add * 2;  add = None\n",
      "    linear = self.linear(mul);  mul = None\n",
      "    add_1 = getitem + linear;  getitem = linear = None\n",
      "    linear2 = self.linear2(add_1);  add_1 = None\n",
      "    add_2 = linear2 + 1;  linear2 = None\n",
      "    return add_2\n",
      "    \n",
      "# To see more debug info, please use `graph_module.print_readable()`\n"
     ]
    }
   ],
   "source": [
    "import torch\n",
    "import numpy as np\n",
    "from torch.fx import symbolic_trace\n",
    "from typing import Dict\n",
    "\n",
    "class MyModel(torch.nn.Module):\n",
    "\n",
    "    def __init__(self):\n",
    "        super().__init__()\n",
    "        self.linear = torch.nn.Linear(10, 10)\n",
    "        self.linear2 = torch.nn.Linear(10, 10)\n",
    "\n",
    "    def forward(self, x, y):\n",
    "        c = self.linear2(x[1] + self.linear((x + y) * 2))\n",
    "        d = c + 1\n",
    "        return d\n",
    "model = MyModel()\n",
    "gm = symbolic_trace(model)\n",
    "print(gm)"
   ]
  },
  {
   "cell_type": "markdown",
   "metadata": {},
   "source": [
    "### Rename a node\n"
   ]
  },
  {
   "cell_type": "code",
   "execution_count": 34,
   "metadata": {},
   "outputs": [
    {
     "name": "stdout",
     "output_type": "stream",
     "text": [
      "MyModel(\n",
      "  (linear): Linear(in_features=10, out_features=10, bias=True)\n",
      "  (linear2): Linear(in_features=10, out_features=10, bias=True)\n",
      ")\n",
      "\n",
      "\n",
      "\n",
      "def forward(self, x, y):\n",
      "    getitem = x[1]\n",
      "    add = x + y;  x = y = None\n",
      "    mul = add * 2;  add = None\n",
      "    linear = self.linear(mul);  mul = None\n",
      "    add_1 = getitem + linear;  getitem = linear = None\n",
      "    linear2 = self.linear2(add_1);  add_1 = None\n",
      "    ret = linear2 + 1;  linear2 = None\n",
      "    return ret\n",
      "    \n",
      "# To see more debug info, please use `graph_module.print_readable()`\n"
     ]
    }
   ],
   "source": [
    "def rename_node(gm, old_name, new_name):\n",
    "    for node in gm.graph.nodes:\n",
    "        if node.name == old_name:\n",
    "            node.name = new_name\n",
    "            break\n",
    "    gm.recompile()\n",
    "    return gm\n",
    "\n",
    "gm = symbolic_trace(model)\n",
    "new_gm = rename_node(gm, \"add_2\", \"ret\")\n",
    "print(new_gm)"
   ]
  },
  {
   "cell_type": "markdown",
   "metadata": {},
   "source": [
    "### Change return variable\n",
    "Construct a new graph with the same nodes as the original graph with the return variable changed to the specified one."
   ]
  },
  {
   "cell_type": "code",
   "execution_count": 35,
   "metadata": {},
   "outputs": [
    {
     "name": "stdout",
     "output_type": "stream",
     "text": [
      "GraphModule(\n",
      "  (linear): Linear(in_features=10, out_features=10, bias=True)\n",
      "  (linear2): Linear(in_features=10, out_features=10, bias=True)\n",
      ")\n",
      "\n",
      "\n",
      "\n",
      "def forward(self, x, y):\n",
      "    getitem = x[1]\n",
      "    add = x + y;  x = y = None\n",
      "    mul = add * 2;  add = None\n",
      "    linear = self.linear(mul);  mul = None\n",
      "    add_1 = getitem + linear;  getitem = linear = None\n",
      "    linear2 = self.linear2(add_1)\n",
      "    add_2 = linear2 + 1;  linear2 = None\n",
      "    return add_1\n",
      "    \n",
      "# To see more debug info, please use `graph_module.print_readable()`\n"
     ]
    }
   ],
   "source": [
    "def modify_return_node(gm, output_node_name):\n",
    "    new_graph = torch.fx.Graph()\n",
    "    env: Dict[torch.fx.Node, torch.fx.Node] = {}\n",
    "    return_node = None\n",
    "    for node in gm.graph.nodes:\n",
    "        if node.op == \"output\":\n",
    "            continue\n",
    "        new_node = new_graph.node_copy(node, lambda x: env[x])\n",
    "        env[node] = new_node\n",
    "        if node.name == output_node_name:\n",
    "            return_node = new_node\n",
    "    assert return_node is not None, f\"{output_node_name} not found\"\n",
    "    new_graph.output(return_node)\n",
    "    new_graph.lint()\n",
    "    new_gm = torch.fx.GraphModule(gm, new_graph)\n",
    "    return new_gm\n",
    "\n",
    "gm = symbolic_trace(model)\n",
    "new_gm = modify_return_node(gm, \"add_1\")\n",
    "print(new_gm)"
   ]
  },
  {
   "cell_type": "markdown",
   "metadata": {},
   "source": [
    "### Replace a node"
   ]
  },
  {
   "cell_type": "code",
   "execution_count": 36,
   "metadata": {},
   "outputs": [
    {
     "name": "stdout",
     "output_type": "stream",
     "text": [
      "MyModel(\n",
      "  (linear): Linear(in_features=10, out_features=10, bias=True)\n",
      "  (linear2): Linear(in_features=10, out_features=10, bias=True)\n",
      ")\n",
      "\n",
      "\n",
      "\n",
      "def forward(self, x, y, ph):\n",
      "    getitem = x[1]\n",
      "    add = x + y;  x = y = None\n",
      "    mul = add * 2;  add = None\n",
      "    add_1 = getitem + ph;  getitem = ph = None\n",
      "    linear2 = self.linear2(add_1);  add_1 = None\n",
      "    add_2 = linear2 + 1;  linear2 = None\n",
      "    return add_2\n",
      "    \n",
      "# To see more debug info, please use `graph_module.print_readable()`\n"
     ]
    }
   ],
   "source": [
    "def replace_node(gm, old_node_name, new_node):\n",
    "    for node in gm.graph.nodes:\n",
    "        if node.name == old_node_name:\n",
    "            node.replace_all_uses_with(new_node)\n",
    "            gm.graph.erase_node(node)\n",
    "            break\n",
    "    gm.recompile()\n",
    "    return gm\n",
    "\n",
    "gm = symbolic_trace(model)\n",
    "new_node = gm.graph.placeholder('ph')\n",
    "gm = replace_node(gm, 'linear', new_node)\n",
    "print(gm)"
   ]
  }
 ],
 "metadata": {
  "kernelspec": {
   "display_name": "Python 3",
   "language": "python",
   "name": "python3"
  },
  "language_info": {
   "codemirror_mode": {
    "name": "ipython",
    "version": 3
   },
   "file_extension": ".py",
   "mimetype": "text/x-python",
   "name": "python",
   "nbconvert_exporter": "python",
   "pygments_lexer": "ipython3",
   "version": "3.9.2"
  },
  "orig_nbformat": 4
 },
 "nbformat": 4,
 "nbformat_minor": 2
}

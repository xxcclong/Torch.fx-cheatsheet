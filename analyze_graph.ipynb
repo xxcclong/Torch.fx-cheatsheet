{
 "cells": [
  {
   "cell_type": "code",
   "execution_count": 5,
   "metadata": {},
   "outputs": [
    {
     "name": "stdout",
     "output_type": "stream",
     "text": [
      "MyModel(\n",
      "  (linear): Linear(in_features=10, out_features=10, bias=True)\n",
      "  (linear2): Linear(in_features=10, out_features=10, bias=True)\n",
      ")\n",
      "\n",
      "\n",
      "\n",
      "def forward(self, x, y):\n",
      "    getitem = x[1]\n",
      "    add = x + y;  x = y = None\n",
      "    mul = add * 2;  add = None\n",
      "    linear = self.linear(mul);  mul = None\n",
      "    add_1 = getitem + linear;  getitem = linear = None\n",
      "    linear2 = self.linear2(add_1);  add_1 = None\n",
      "    add_2 = linear2 + 1;  linear2 = None\n",
      "    return add_2\n",
      "    \n",
      "# To see more debug info, please use `graph_module.print_readable()`\n"
     ]
    }
   ],
   "source": [
    "import torch\n",
    "from torch.fx import symbolic_trace\n",
    "from typing import Dict\n",
    "\n",
    "\n",
    "class MyModel(torch.nn.Module):\n",
    "\n",
    "    def __init__(self):\n",
    "        super().__init__()\n",
    "        self.linear = torch.nn.Linear(10, 10)\n",
    "        self.linear2 = torch.nn.Linear(10, 10)\n",
    "\n",
    "    def forward(self, x, y):\n",
    "        c = self.linear2(x[1] + self.linear((x + y) * 2))\n",
    "        d = c + 1\n",
    "        return d\n",
    "\n",
    "\n",
    "model = MyModel()\n",
    "gm = symbolic_trace(model)\n",
    "print(gm)\n"
   ]
  },
  {
   "cell_type": "markdown",
   "metadata": {},
   "source": [
    "### Split graph into subgraphs"
   ]
  },
  {
   "cell_type": "code",
   "execution_count": 6,
   "metadata": {},
   "outputs": [
    {
     "name": "stdout",
     "output_type": "stream",
     "text": [
      "GraphModule()\n",
      "\n",
      "\n",
      "\n",
      "def forward(self, x):\n",
      "    getitem = x[1];  x = None\n",
      "    return getitem\n",
      "    \n",
      "# To see more debug info, please use `graph_module.print_readable()`\n",
      "GraphModule(\n",
      "  (linear): Linear(in_features=10, out_features=10, bias=True)\n",
      ")\n",
      "\n",
      "\n",
      "\n",
      "def forward(self, x, y):\n",
      "    add = x + y;  x = y = None\n",
      "    mul = add * 2;  add = None\n",
      "    linear = self.linear(mul);  mul = None\n",
      "    return linear\n",
      "    \n",
      "# To see more debug info, please use `graph_module.print_readable()`\n",
      "GraphModule(\n",
      "  (linear2): Linear(in_features=10, out_features=10, bias=True)\n",
      ")\n",
      "\n",
      "\n",
      "\n",
      "def forward(self, getitem, linear):\n",
      "    add_1 = getitem + linear;  getitem = linear = None\n",
      "    linear2 = self.linear2(add_1);  add_1 = None\n",
      "    add_2 = linear2 + 1;  linear2 = None\n",
      "    return add_2\n",
      "    \n",
      "# To see more debug info, please use `graph_module.print_readable()`\n"
     ]
    }
   ],
   "source": [
    "def split_graph(gm):\n",
    "    num_node = len(gm.graph.nodes)\n",
    "    num_parts = 3\n",
    "    node_per_part = num_node // num_parts\n",
    "    for it, node in enumerate(gm.graph.nodes):\n",
    "        node.tag = it // node_per_part\n",
    "    classes = [i for i in range(num_parts)]\n",
    "    new_gm = torch.fx.passes.split_utils.split_by_tags(gm, classes)\n",
    "    return new_gm\n",
    "\n",
    "new_gm = split_graph(gm)\n",
    "for child in new_gm.children():\n",
    "    print(child)\n"
   ]
  },
  {
   "cell_type": "markdown",
   "metadata": {},
   "source": [
    "### Shape propagation"
   ]
  },
  {
   "cell_type": "code",
   "execution_count": 7,
   "metadata": {},
   "outputs": [
    {
     "name": "stdout",
     "output_type": "stream",
     "text": [
      "x torch.float32 torch.Size([10])\n",
      "y torch.float32 torch.Size([10])\n",
      "getitem torch.float32 torch.Size([])\n",
      "add torch.float32 torch.Size([10])\n",
      "mul torch.float32 torch.Size([10])\n",
      "linear torch.float32 torch.Size([10])\n",
      "add_1 torch.float32 torch.Size([10])\n",
      "linear2 torch.float32 torch.Size([10])\n",
      "add_2 torch.float32 torch.Size([10])\n",
      "output torch.float32 torch.Size([10])\n"
     ]
    }
   ],
   "source": [
    "def shape_prop(gm):\n",
    "    torch.fx.passes.shape_prop.ShapeProp(gm).propagate(torch.randn(10), torch.randn(10))\n",
    "    return gm\n",
    "\n",
    "gm = shape_prop(gm)\n",
    "for node in gm.graph.nodes:\n",
    "    print(node.name, node.meta['tensor_meta'].dtype,\n",
    "        node.meta['tensor_meta'].shape)\n"
   ]
  }
 ],
 "metadata": {
  "kernelspec": {
   "display_name": "Python 3",
   "language": "python",
   "name": "python3"
  },
  "language_info": {
   "codemirror_mode": {
    "name": "ipython",
    "version": 3
   },
   "file_extension": ".py",
   "mimetype": "text/x-python",
   "name": "python",
   "nbconvert_exporter": "python",
   "pygments_lexer": "ipython3",
   "version": "3.9.2"
  },
  "orig_nbformat": 4
 },
 "nbformat": 4,
 "nbformat_minor": 2
}

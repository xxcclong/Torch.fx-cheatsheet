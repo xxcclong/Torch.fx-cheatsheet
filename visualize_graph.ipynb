{
 "cells": [
  {
   "cell_type": "markdown",
   "metadata": {},
   "source": [
    "## Visualize a computation graph with torch FX"
   ]
  },
  {
   "cell_type": "code",
   "execution_count": 2,
   "metadata": {},
   "outputs": [],
   "source": [
    "import torch\n",
    "import pydot\n",
    "from torch.fx import symbolic_trace\n",
    "\n",
    "\n",
    "class MyModel(torch.nn.Module):\n",
    "\n",
    "    def __init__(self):\n",
    "        super().__init__()\n",
    "        self.linear = torch.nn.Linear(10, 10)\n",
    "        self.linear2 = torch.nn.Linear(10, 10)\n",
    "\n",
    "    def forward(self, x, y):\n",
    "        c = self.linear2(x[1] + self.linear((x + y) * 2))\n",
    "        d = c + 1\n",
    "        return d\n",
    "\n",
    "\n",
    "model = MyModel()\n",
    "gm = symbolic_trace(model)\n"
   ]
  },
  {
   "cell_type": "code",
   "execution_count": null,
   "metadata": {},
   "outputs": [],
   "source": [
    "def draw_graph(gm, filename):\n",
    "    dot_graph = pydot.Dot(\"torchTX Graph\", graph_type=\"graph\")\n",
    "    nodes = gm.graph.nodes\n",
    "    for node in nodes:\n",
    "        dot_graph.add_node(pydot.Node(str(node.name), ))\n",
    "    for node in nodes:\n",
    "        for arg in node.args:\n",
    "            if isinstance(arg, torch.fx.node.Node):\n",
    "                dot_graph.add_edge(pydot.Edge(arg.name, node.name))\n",
    "    dot_graph.write_pdf(f\"{filename}.pdf\")\n",
    "\n",
    "draw_graph(gm, \"mymodel\")"
   ]
  }
 ],
 "metadata": {
  "kernelspec": {
   "display_name": "Python 3",
   "language": "python",
   "name": "python3"
  },
  "language_info": {
   "codemirror_mode": {
    "name": "ipython",
    "version": 3
   },
   "file_extension": ".py",
   "mimetype": "text/x-python",
   "name": "python",
   "nbconvert_exporter": "python",
   "pygments_lexer": "ipython3",
   "version": "3.9.2"
  },
  "orig_nbformat": 4
 },
 "nbformat": 4,
 "nbformat_minor": 2
}
